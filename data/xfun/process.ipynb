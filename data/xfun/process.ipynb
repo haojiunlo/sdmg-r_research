{
 "cells": [
  {
   "cell_type": "code",
   "execution_count": 1,
   "metadata": {},
   "outputs": [],
   "source": [
    "import json\n",
    "import cv2\n",
    "import numpy as np"
   ]
  },
  {
   "cell_type": "code",
   "execution_count": 2,
   "metadata": {},
   "outputs": [],
   "source": [
    "def convert_data(item, prefix=\"train/\", undirected=False):\n",
    "    file_name = prefix + item[\"id\"] + \".jpg\"\n",
    "    height, width = cv2.imread(file_name).shape[:2]\n",
    "    annotations = []\n",
    "    link_cls = []\n",
    "    id2index = {j: i for i, j in enumerate([x[\"id\"] for x in item['document']])}\n",
    "    edges = list(set([(id2index[link[0]], id2index[link[1]]) for x in item[\"document\"] for link in x[\"linking\"]]))\n",
    "    if undirected:\n",
    "        edges.extend([(j, i) for i, j in edges])\n",
    "    for doc in item[\"document\"]:\n",
    "        x1, y1, x3, y3 = doc[\"box\"]\n",
    "        x2 = x3\n",
    "        y2 = y1\n",
    "        x4 = x1\n",
    "        y4 = y3\n",
    "        box = [float(x1), float(y1), float(x2), float(y2),\n",
    "               float(x3), float(y3), float(x4), float(y4)]\n",
    "        text = doc[\"text\"]\n",
    "        label = label2id[doc['label']]\n",
    "                \n",
    "        annotations.append(\n",
    "            {\n",
    "                \"box\": box,\n",
    "                \"text\": text,\n",
    "                \"label\": label\n",
    "            }\n",
    "        )\n",
    "    out = {\n",
    "        \"file_name\": file_name,\n",
    "        \"height\": height,\n",
    "        \"width\": width,\n",
    "        \"annotations\": annotations,\n",
    "        \"edges\": edges\n",
    "    }\n",
    "    return out"
   ]
  },
  {
   "cell_type": "markdown",
   "metadata": {},
   "source": [
    "# load xfun training data"
   ]
  },
  {
   "cell_type": "code",
   "execution_count": 11,
   "metadata": {},
   "outputs": [],
   "source": [
    "with open(\"zh.train.json\", \"r\") as f:\n",
    "    d = json.load(f)\n",
    "    \n",
    "with open(\"zh.val.json\", \"r\") as f:\n",
    "    d_val = json.load(f)"
   ]
  },
  {
   "cell_type": "code",
   "execution_count": 4,
   "metadata": {},
   "outputs": [],
   "source": [
    "id2index = {j: i for i, j in enumerate([x[\"id\"] for x in d[\"documents\"][0]['document']])}"
   ]
  },
  {
   "cell_type": "code",
   "execution_count": 6,
   "metadata": {},
   "outputs": [],
   "source": [
    "# get node edges\n",
    "\n",
    "link = list(\n",
    "    set([(id2index[link[0]], id2index[link[1]]) for x in d[\"documents\"][0][\"document\"] for link in x[\"linking\"]]))"
   ]
  },
  {
   "cell_type": "code",
   "execution_count": 15,
   "metadata": {},
   "outputs": [],
   "source": [
    "# get all chars\n",
    "\n",
    "chars = sorted(list(set([z for x in d[\"documents\"] for y in x['document'] for z in y[\"text\"]])))"
   ]
  },
  {
   "cell_type": "code",
   "execution_count": 9,
   "metadata": {},
   "outputs": [
    {
     "data": {
      "text/plain": [
       "{'answer': 0, 'header': 1, 'other': 2, 'question': 3}"
      ]
     },
     "execution_count": 9,
     "metadata": {},
     "output_type": "execute_result"
    }
   ],
   "source": [
    "# get label list\n",
    "\n",
    "labels_ls = [y['label'] for x in d[\"documents\"] for y in x['document']]\n",
    "label2id = {j:i for i,j in enumerate(sorted(list(set(labels_ls))))}\n",
    "label2id"
   ]
  },
  {
   "cell_type": "markdown",
   "metadata": {},
   "source": [
    "## convert to mmocr format"
   ]
  },
  {
   "cell_type": "code",
   "execution_count": 10,
   "metadata": {},
   "outputs": [],
   "source": [
    "# training data\n",
    "\n",
    "with open(\"zh_train.txt\", \"w\") as f:\n",
    "    for item in d[\"documents\"]:\n",
    "        out = convert_data(item, undirected=False)\n",
    "        f.write(json.dumps(out, ensure_ascii=False))\n",
    "        f.write(\"\\n\")"
   ]
  },
  {
   "cell_type": "code",
   "execution_count": 12,
   "metadata": {},
   "outputs": [],
   "source": [
    "# val data\n",
    "\n",
    "with open(\"zh_val.txt\", \"w\") as f:\n",
    "    for item in d_val[\"documents\"]:\n",
    "        out = convert_data(item, prefix=\"val/\", undirected=False)\n",
    "        f.write(json.dumps(out, ensure_ascii=False))\n",
    "        f.write(\"\\n\")"
   ]
  },
  {
   "cell_type": "code",
   "execution_count": 13,
   "metadata": {},
   "outputs": [],
   "source": [
    "# save class list\n",
    "\n",
    "with open(\"class_list.txt\", \"w\") as f:\n",
    "    for c, idx in label2id.items():\n",
    "        f.write(f\"{idx} {c}\\n\")"
   ]
  },
  {
   "cell_type": "code",
   "execution_count": 16,
   "metadata": {},
   "outputs": [],
   "source": [
    "# save char dict\n",
    "\n",
    "with open(\"dict.txt\", \"w\") as f:\n",
    "    for ch in chars:\n",
    "        f.write(ch)\n",
    "        f.write(\"\\n\")"
   ]
  },
  {
   "cell_type": "code",
   "execution_count": null,
   "metadata": {},
   "outputs": [],
   "source": []
  }
 ],
 "metadata": {
  "kernelspec": {
   "display_name": "tf2",
   "language": "python",
   "name": "tf2"
  },
  "language_info": {
   "codemirror_mode": {
    "name": "ipython",
    "version": 3
   },
   "file_extension": ".py",
   "mimetype": "text/x-python",
   "name": "python",
   "nbconvert_exporter": "python",
   "pygments_lexer": "ipython3",
   "version": "3.7.7"
  }
 },
 "nbformat": 4,
 "nbformat_minor": 4
}
